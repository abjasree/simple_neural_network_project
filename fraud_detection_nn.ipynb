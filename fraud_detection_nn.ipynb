{
  "nbformat": 4,
  "nbformat_minor": 0,
  "metadata": {
    "colab": {
      "name": "fraud_detection_nn.ipynb",
      "provenance": [],
      "authorship_tag": "ABX9TyPUD1MQseFtt0brQj0P4T9N",
      "include_colab_link": true
    },
    "kernelspec": {
      "name": "python3",
      "display_name": "Python 3"
    },
    "language_info": {
      "name": "python"
    }
  },
  "cells": [
    {
      "cell_type": "markdown",
      "metadata": {
        "id": "view-in-github",
        "colab_type": "text"
      },
      "source": [
        "<a href=\"https://colab.research.google.com/github/abjasree/simple_neural_network_project/blob/main/fraud_detection_nn.ipynb\" target=\"_parent\"><img src=\"https://colab.research.google.com/assets/colab-badge.svg\" alt=\"Open In Colab\"/></a>"
      ]
    },
    {
      "cell_type": "code",
      "metadata": {
        "id": "UKg6xeVM4bA-"
      },
      "source": [
        "from google.colab import drive"
      ],
      "execution_count": null,
      "outputs": []
    },
    {
      "cell_type": "code",
      "metadata": {
        "colab": {
          "base_uri": "https://localhost:8080/"
        },
        "id": "JDSaulVU69-0",
        "outputId": "940e3149-479e-4916-bd9e-b007dafc2717"
      },
      "source": [
        "drive.mount('/content/drive')"
      ],
      "execution_count": null,
      "outputs": [
        {
          "output_type": "stream",
          "name": "stdout",
          "text": [
            "Mounted at /content/drive\n"
          ]
        }
      ]
    },
    {
      "cell_type": "code",
      "metadata": {
        "colab": {
          "base_uri": "https://localhost:8080/"
        },
        "id": "2hmdT3LE74Gh",
        "outputId": "fd82e9a9-7ac5-455c-bacf-d8aa462ff2f5"
      },
      "source": [
        "!pip install gender_guesser"
      ],
      "execution_count": null,
      "outputs": [
        {
          "output_type": "stream",
          "name": "stdout",
          "text": [
            "Collecting gender_guesser\n",
            "  Downloading gender_guesser-0.4.0-py2.py3-none-any.whl (379 kB)\n",
            "\u001b[?25l\r\u001b[K     |▉                               | 10 kB 27.7 MB/s eta 0:00:01\r\u001b[K     |█▊                              | 20 kB 28.6 MB/s eta 0:00:01\r\u001b[K     |██▋                             | 30 kB 17.1 MB/s eta 0:00:01\r\u001b[K     |███▌                            | 40 kB 15.3 MB/s eta 0:00:01\r\u001b[K     |████▎                           | 51 kB 5.5 MB/s eta 0:00:01\r\u001b[K     |█████▏                          | 61 kB 6.0 MB/s eta 0:00:01\r\u001b[K     |██████                          | 71 kB 5.4 MB/s eta 0:00:01\r\u001b[K     |███████                         | 81 kB 6.0 MB/s eta 0:00:01\r\u001b[K     |███████▊                        | 92 kB 6.0 MB/s eta 0:00:01\r\u001b[K     |████████▋                       | 102 kB 5.3 MB/s eta 0:00:01\r\u001b[K     |█████████▌                      | 112 kB 5.3 MB/s eta 0:00:01\r\u001b[K     |██████████▍                     | 122 kB 5.3 MB/s eta 0:00:01\r\u001b[K     |███████████▎                    | 133 kB 5.3 MB/s eta 0:00:01\r\u001b[K     |████████████                    | 143 kB 5.3 MB/s eta 0:00:01\r\u001b[K     |█████████████                   | 153 kB 5.3 MB/s eta 0:00:01\r\u001b[K     |█████████████▉                  | 163 kB 5.3 MB/s eta 0:00:01\r\u001b[K     |██████████████▊                 | 174 kB 5.3 MB/s eta 0:00:01\r\u001b[K     |███████████████▌                | 184 kB 5.3 MB/s eta 0:00:01\r\u001b[K     |████████████████▍               | 194 kB 5.3 MB/s eta 0:00:01\r\u001b[K     |█████████████████▎              | 204 kB 5.3 MB/s eta 0:00:01\r\u001b[K     |██████████████████▏             | 215 kB 5.3 MB/s eta 0:00:01\r\u001b[K     |███████████████████             | 225 kB 5.3 MB/s eta 0:00:01\r\u001b[K     |███████████████████▉            | 235 kB 5.3 MB/s eta 0:00:01\r\u001b[K     |████████████████████▊           | 245 kB 5.3 MB/s eta 0:00:01\r\u001b[K     |█████████████████████▋          | 256 kB 5.3 MB/s eta 0:00:01\r\u001b[K     |██████████████████████▌         | 266 kB 5.3 MB/s eta 0:00:01\r\u001b[K     |███████████████████████▎        | 276 kB 5.3 MB/s eta 0:00:01\r\u001b[K     |████████████████████████▏       | 286 kB 5.3 MB/s eta 0:00:01\r\u001b[K     |█████████████████████████       | 296 kB 5.3 MB/s eta 0:00:01\r\u001b[K     |██████████████████████████      | 307 kB 5.3 MB/s eta 0:00:01\r\u001b[K     |██████████████████████████▉     | 317 kB 5.3 MB/s eta 0:00:01\r\u001b[K     |███████████████████████████▋    | 327 kB 5.3 MB/s eta 0:00:01\r\u001b[K     |████████████████████████████▌   | 337 kB 5.3 MB/s eta 0:00:01\r\u001b[K     |█████████████████████████████▍  | 348 kB 5.3 MB/s eta 0:00:01\r\u001b[K     |██████████████████████████████▎ | 358 kB 5.3 MB/s eta 0:00:01\r\u001b[K     |███████████████████████████████ | 368 kB 5.3 MB/s eta 0:00:01\r\u001b[K     |████████████████████████████████| 378 kB 5.3 MB/s eta 0:00:01\r\u001b[K     |████████████████████████████████| 379 kB 5.3 MB/s \n",
            "\u001b[?25hInstalling collected packages: gender-guesser\n",
            "Successfully installed gender-guesser-0.4.0\n"
          ]
        }
      ]
    },
    {
      "cell_type": "code",
      "metadata": {
        "id": "__ttH6KY7ns6"
      },
      "source": [
        "import sys\n",
        "import csv\n",
        "import datetime\n",
        "import numpy as np\n",
        "import pandas as pd\n",
        "import matplotlib.pyplot as plt\n",
        "from datetime import datetime\n",
        "import gender_guesser.detector as gender\n",
        "from sklearn.impute import SimpleImputer\n",
        "from sklearn.model_selection import cross_validate\n",
        "from sklearn import metrics\n",
        "from sklearn import preprocessing\n",
        "from sklearn.metrics import roc_curve, auc\n",
        "from sklearn.ensemble import RandomForestClassifier\n",
        "from sklearn.model_selection import cross_val_score\n",
        "from sklearn.model_selection import StratifiedKFold, train_test_split\n",
        "from sklearn.model_selection import GridSearchCV\n",
        "from sklearn.metrics import accuracy_score\n",
        "from sklearn.model_selection import learning_curve\n",
        "from sklearn.metrics import classification_report\n",
        "from sklearn.metrics import accuracy_score\n",
        "from sklearn.metrics import confusion_matrix\n",
        "%matplotlib inline "
      ],
      "execution_count": null,
      "outputs": []
    },
    {
      "cell_type": "code",
      "metadata": {
        "id": "WZ03i5NF8h_5"
      },
      "source": [
        "def read_datasets():\n",
        "    \"\"\" Reads users profile from csv files \"\"\"\n",
        "    genuine_users = pd.read_csv('/content/drive/MyDrive/dataset/users.csv')\n",
        "    fake_users = pd.read_csv('/content/drive/MyDrive/dataset/fusers.csv')\n",
        "    # print genuine_users.columns\n",
        "    # print genuine_users.describe()\n",
        "    #print fake_users.describe()\n",
        "    x=pd.concat([genuine_users,fake_users])   \n",
        "    y=len(fake_users)*[0] + len(genuine_users)*[1]\n",
        "    return x,y"
      ],
      "execution_count": null,
      "outputs": []
    },
    {
      "cell_type": "code",
      "metadata": {
        "id": "2r0HGTKGsI1O"
      },
      "source": [
        "def predict_sex(name):\n",
        "    sex_predictor = gender.Detector(case_sensitive=False)\n",
        "    first_name= name.str.split(' ').str.get(0)\n",
        "    sex= first_name.apply(sex_predictor.get_gender)\n",
        "    sex_dict={'female': -2, 'mostly_female': -1,'unknown':0, 'andy' :0,'mostly_male':1, 'male': 2}\n",
        "    sex_code = sex.map(sex_dict)\n",
        "    return sex_code"
      ],
      "execution_count": null,
      "outputs": []
    },
    {
      "cell_type": "code",
      "metadata": {
        "id": "dzGD4gTasRTc"
      },
      "source": [
        "def extract_features(x):\n",
        "        lang_list = list(enumerate(np.unique(x['lang'])))   \n",
        "        lang_dict = { name : i for i, name in lang_list }             \n",
        "        x.loc[:,'lang_code'] = x['lang'].map( lambda x: lang_dict[x]).astype(int)\n",
        "        x.loc[:,'sex_code']=predict_sex(x['name'])\n",
        "        feature_columns_to_use = ['statuses_count','followers_count','friends_count','favourites_count','listed_count','sex_code','lang_code']\n",
        "        x=x.loc[:,feature_columns_to_use]\n",
        "        return x"
      ],
      "execution_count": null,
      "outputs": []
    },
    {
      "cell_type": "code",
      "metadata": {
        "id": "VioViy9Ks-LF"
      },
      "source": [
        "def plot_confusion_matrix(cm, title='Confusion matrix', cmap=plt.cm.Blues):\n",
        "    target_names=['Fake','Genuine']\n",
        "    plt.imshow(cm, interpolation='nearest', cmap=cmap)\n",
        "    plt.title(title)\n",
        "    plt.colorbar()\n",
        "    tick_marks = np.arange(len(target_names))\n",
        "    plt.xticks(tick_marks, target_names, rotation=45)\n",
        "    plt.yticks(tick_marks, target_names)\n",
        "    plt.tight_layout()\n",
        "    plt.ylabel('True label')\n",
        "    plt.xlabel('Predicted label')"
      ],
      "execution_count": null,
      "outputs": []
    },
    {
      "cell_type": "code",
      "metadata": {
        "id": "7lWR9GT2tCjF"
      },
      "source": [
        "def plot_roc_curve(y_test, y_pred):\n",
        "    false_positive_rate, true_positive_rate, thresholds = roc_curve(y_test, y_pred)\n",
        "\n",
        "    print (\"False Positive rate: \",false_positive_rate)\n",
        "    print (\"True Positive rate: \",true_positive_rate)\n",
        "\n",
        "\n",
        "    roc_auc = auc(false_positive_rate, true_positive_rate)\n",
        "\n",
        "    plt.title('Receiver Operating Characteristic')\n",
        "    plt.plot(false_positive_rate, true_positive_rate, 'b',\n",
        "    label='AUC = %0.2f'% roc_auc)\n",
        "    plt.legend(loc='lower right')\n",
        "    plt.plot([0,1],[0,1],'r--')\n",
        "    plt.xlim([-0.1,1.2])\n",
        "    plt.ylim([-0.1,1.2])\n",
        "    plt.ylabel('True Positive Rate')\n",
        "    plt.xlabel('False Positive Rate')\n",
        "    plt.show()"
      ],
      "execution_count": null,
      "outputs": []
    },
    {
      "cell_type": "code",
      "metadata": {
        "colab": {
          "base_uri": "https://localhost:8080/",
          "height": 349
        },
        "id": "KVFLoDmi0OmK",
        "outputId": "971c95ed-2eb0-4d27-ecda-1b1841274b10"
      },
      "source": [
        "print(\"reading datasets.....\\n\")\n",
        "x,y = read_datasets()\n",
        "x.describe()"
      ],
      "execution_count": null,
      "outputs": [
        {
          "output_type": "stream",
          "name": "stdout",
          "text": [
            "reading datasets.....\n",
            "\n"
          ]
        },
        {
          "output_type": "execute_result",
          "data": {
            "text/html": [
              "<div>\n",
              "<style scoped>\n",
              "    .dataframe tbody tr th:only-of-type {\n",
              "        vertical-align: middle;\n",
              "    }\n",
              "\n",
              "    .dataframe tbody tr th {\n",
              "        vertical-align: top;\n",
              "    }\n",
              "\n",
              "    .dataframe thead th {\n",
              "        text-align: right;\n",
              "    }\n",
              "</style>\n",
              "<table border=\"1\" class=\"dataframe\">\n",
              "  <thead>\n",
              "    <tr style=\"text-align: right;\">\n",
              "      <th></th>\n",
              "      <th>id</th>\n",
              "      <th>statuses_count</th>\n",
              "      <th>followers_count</th>\n",
              "      <th>friends_count</th>\n",
              "      <th>favourites_count</th>\n",
              "      <th>listed_count</th>\n",
              "      <th>default_profile</th>\n",
              "      <th>default_profile_image</th>\n",
              "      <th>geo_enabled</th>\n",
              "      <th>profile_use_background_image</th>\n",
              "      <th>profile_background_tile</th>\n",
              "      <th>utc_offset</th>\n",
              "      <th>protected</th>\n",
              "      <th>verified</th>\n",
              "    </tr>\n",
              "  </thead>\n",
              "  <tbody>\n",
              "    <tr>\n",
              "      <th>count</th>\n",
              "      <td>4.879000e+03</td>\n",
              "      <td>4879.000000</td>\n",
              "      <td>4879.000000</td>\n",
              "      <td>4879.000000</td>\n",
              "      <td>4879.000000</td>\n",
              "      <td>4879.000000</td>\n",
              "      <td>3050.0</td>\n",
              "      <td>8.0</td>\n",
              "      <td>1246.0</td>\n",
              "      <td>4778.0</td>\n",
              "      <td>815.0</td>\n",
              "      <td>1808.000000</td>\n",
              "      <td>0.0</td>\n",
              "      <td>0.0</td>\n",
              "    </tr>\n",
              "    <tr>\n",
              "      <th>mean</th>\n",
              "      <td>5.190748e+08</td>\n",
              "      <td>1623.838287</td>\n",
              "      <td>367.892806</td>\n",
              "      <td>400.677393</td>\n",
              "      <td>207.048576</td>\n",
              "      <td>2.733142</td>\n",
              "      <td>1.0</td>\n",
              "      <td>1.0</td>\n",
              "      <td>1.0</td>\n",
              "      <td>1.0</td>\n",
              "      <td>1.0</td>\n",
              "      <td>1346.017699</td>\n",
              "      <td>NaN</td>\n",
              "      <td>NaN</td>\n",
              "    </tr>\n",
              "    <tr>\n",
              "      <th>std</th>\n",
              "      <td>2.933210e+08</td>\n",
              "      <td>4725.278297</td>\n",
              "      <td>8463.267199</td>\n",
              "      <td>465.025501</td>\n",
              "      <td>1284.055210</td>\n",
              "      <td>22.774626</td>\n",
              "      <td>0.0</td>\n",
              "      <td>0.0</td>\n",
              "      <td>0.0</td>\n",
              "      <td>0.0</td>\n",
              "      <td>0.0</td>\n",
              "      <td>7944.578760</td>\n",
              "      <td>NaN</td>\n",
              "      <td>NaN</td>\n",
              "    </tr>\n",
              "    <tr>\n",
              "      <th>min</th>\n",
              "      <td>3.610511e+06</td>\n",
              "      <td>0.000000</td>\n",
              "      <td>0.000000</td>\n",
              "      <td>0.000000</td>\n",
              "      <td>0.000000</td>\n",
              "      <td>0.000000</td>\n",
              "      <td>1.0</td>\n",
              "      <td>1.0</td>\n",
              "      <td>1.0</td>\n",
              "      <td>1.0</td>\n",
              "      <td>1.0</td>\n",
              "      <td>-39600.000000</td>\n",
              "      <td>NaN</td>\n",
              "      <td>NaN</td>\n",
              "    </tr>\n",
              "    <tr>\n",
              "      <th>25%</th>\n",
              "      <td>3.255513e+08</td>\n",
              "      <td>35.000000</td>\n",
              "      <td>17.000000</td>\n",
              "      <td>181.000000</td>\n",
              "      <td>0.000000</td>\n",
              "      <td>0.000000</td>\n",
              "      <td>1.0</td>\n",
              "      <td>1.0</td>\n",
              "      <td>1.0</td>\n",
              "      <td>1.0</td>\n",
              "      <td>1.0</td>\n",
              "      <td>3600.000000</td>\n",
              "      <td>NaN</td>\n",
              "      <td>NaN</td>\n",
              "    </tr>\n",
              "    <tr>\n",
              "      <th>50%</th>\n",
              "      <td>6.162234e+08</td>\n",
              "      <td>69.000000</td>\n",
              "      <td>25.000000</td>\n",
              "      <td>310.000000</td>\n",
              "      <td>0.000000</td>\n",
              "      <td>0.000000</td>\n",
              "      <td>1.0</td>\n",
              "      <td>1.0</td>\n",
              "      <td>1.0</td>\n",
              "      <td>1.0</td>\n",
              "      <td>1.0</td>\n",
              "      <td>3600.000000</td>\n",
              "      <td>NaN</td>\n",
              "      <td>NaN</td>\n",
              "    </tr>\n",
              "    <tr>\n",
              "      <th>75%</th>\n",
              "      <td>6.175998e+08</td>\n",
              "      <td>1066.000000</td>\n",
              "      <td>106.000000</td>\n",
              "      <td>526.000000</td>\n",
              "      <td>30.000000</td>\n",
              "      <td>1.000000</td>\n",
              "      <td>1.0</td>\n",
              "      <td>1.0</td>\n",
              "      <td>1.0</td>\n",
              "      <td>1.0</td>\n",
              "      <td>1.0</td>\n",
              "      <td>3600.000000</td>\n",
              "      <td>NaN</td>\n",
              "      <td>NaN</td>\n",
              "    </tr>\n",
              "    <tr>\n",
              "      <th>max</th>\n",
              "      <td>1.391998e+09</td>\n",
              "      <td>79876.000000</td>\n",
              "      <td>408372.000000</td>\n",
              "      <td>12773.000000</td>\n",
              "      <td>44349.000000</td>\n",
              "      <td>744.000000</td>\n",
              "      <td>1.0</td>\n",
              "      <td>1.0</td>\n",
              "      <td>1.0</td>\n",
              "      <td>1.0</td>\n",
              "      <td>1.0</td>\n",
              "      <td>36000.000000</td>\n",
              "      <td>NaN</td>\n",
              "      <td>NaN</td>\n",
              "    </tr>\n",
              "  </tbody>\n",
              "</table>\n",
              "</div>"
            ],
            "text/plain": [
              "                 id  statuses_count  ...  protected  verified\n",
              "count  4.879000e+03     4879.000000  ...        0.0       0.0\n",
              "mean   5.190748e+08     1623.838287  ...        NaN       NaN\n",
              "std    2.933210e+08     4725.278297  ...        NaN       NaN\n",
              "min    3.610511e+06        0.000000  ...        NaN       NaN\n",
              "25%    3.255513e+08       35.000000  ...        NaN       NaN\n",
              "50%    6.162234e+08       69.000000  ...        NaN       NaN\n",
              "75%    6.175998e+08     1066.000000  ...        NaN       NaN\n",
              "max    1.391998e+09    79876.000000  ...        NaN       NaN\n",
              "\n",
              "[8 rows x 14 columns]"
            ]
          },
          "metadata": {},
          "execution_count": 10
        }
      ]
    },
    {
      "cell_type": "code",
      "metadata": {
        "colab": {
          "base_uri": "https://localhost:8080/"
        },
        "id": "XWkmO2W40eiQ",
        "outputId": "bf9d5238-e00c-44b1-ef75-d3c8da13834f"
      },
      "source": [
        "print (\"extracting features.....\\n\")\n",
        "x=extract_features(x)\n",
        "print (x.columns)\n",
        "print (x.describe())\n",
        "print(x.head())"
      ],
      "execution_count": null,
      "outputs": [
        {
          "output_type": "stream",
          "name": "stdout",
          "text": [
            "extracting features.....\n",
            "\n",
            "Index(['statuses_count', 'followers_count', 'friends_count',\n",
            "       'favourites_count', 'listed_count', 'sex_code', 'lang_code'],\n",
            "      dtype='object')\n",
            "       statuses_count  followers_count  ...     sex_code    lang_code\n",
            "count     4879.000000      4879.000000  ...  4879.000000  4879.000000\n",
            "mean      1623.838287       367.892806  ...    -0.191023     2.755073\n",
            "std       4725.278297      8463.267199  ...     1.693751     1.983135\n",
            "min          0.000000         0.000000  ...    -2.000000     0.000000\n",
            "25%         35.000000        17.000000  ...    -2.000000     1.000000\n",
            "50%         69.000000        25.000000  ...     0.000000     1.000000\n",
            "75%       1066.000000       106.000000  ...     2.000000     5.000000\n",
            "max      79876.000000    408372.000000  ...     2.000000     7.000000\n",
            "\n",
            "[8 rows x 7 columns]\n",
            "   statuses_count  followers_count  ...  sex_code  lang_code\n",
            "0           20370             5470  ...         2          5\n",
            "1            3131              506  ...        -2          1\n",
            "2            4024              264  ...         0          1\n",
            "3           40586              640  ...         0          1\n",
            "4            2016               62  ...         2          5\n",
            "\n",
            "[5 rows x 7 columns]\n"
          ]
        }
      ]
    },
    {
      "cell_type": "code",
      "metadata": {
        "id": "n_fBp_t17XFv"
      },
      "source": [
        "from keras.models import Sequential\n",
        "from keras.layers import Dense\n",
        "from sklearn.preprocessing import StandardScaler\n",
        "\n",
        "\n",
        "def train(x_train,y_train,x_test):\n",
        "    \"\"\" Trains and predicts dataset with a Neural Network classifier \"\"\"\n",
        "    scaler = StandardScaler().fit(x_train)\n",
        "    x_train = scaler.transform(x_train)\n",
        "    x_test = scaler.transform(x_test)\n",
        "    y_train = np.array(y_train)\n",
        "    model = Sequential()\n",
        "    model.add(Dense(5, input_dim=len(x_train[1]), activation='relu'))\n",
        "   \n",
        "    model.add(Dense(1, activation='sigmoid'))\n",
        "\t  # compile the keras model\n",
        "    model.compile(loss='binary_crossentropy', optimizer='adam', metrics=['accuracy'])\n",
        "   # y_train = y_train.map(one_hot_matrix)\n",
        "\t  # fit the keras model on the dataset\n",
        "    history = model.fit(x_train, y_train, validation_split=0.33, epochs=100, batch_size=10)\n",
        "    # summarize history for accuracy\n",
        "    plt.plot(history.history['accuracy'])\n",
        "    plt.plot(history.history['val_accuracy'])\n",
        "    plt.title('model accuracy')\n",
        "    plt.ylabel('accuracy')\n",
        "    plt.xlabel('epoch')\n",
        "    plt.legend(['train', 'test'], loc='upper left')\n",
        "    plt.show()\n",
        "    # summarize history for loss\n",
        "    plt.plot(history.history['loss'])\n",
        "    plt.plot(history.history['val_loss'])\n",
        "    plt.title('model loss')\n",
        "    plt.ylabel('loss')\n",
        "    plt.xlabel('epoch')\n",
        "    plt.legend(['train', 'test'], loc='upper left')\n",
        "    plt.show()\n",
        "    \n",
        "    predictions = (model.predict(x_test) > 0.5).astype(int)\n",
        "    return predictions\n",
        "    \n",
        "   \t  "
      ],
      "execution_count": null,
      "outputs": []
    },
    {
      "cell_type": "code",
      "metadata": {
        "colab": {
          "base_uri": "https://localhost:8080/"
        },
        "id": "U9ILtm2_CrZ2",
        "outputId": "4e302210-b699-4d85-9d93-4c02d376025e"
      },
      "source": [
        "print (\"spliting datasets in train and test dataset...\\n\")\n",
        "X_train,X_test,y_train,y_test = train_test_split(x, y, test_size=0.30, random_state=44)\n",
        "from sklearn.preprocessing import StandardScaler\n",
        "scaler = StandardScaler().fit(X_train)\n",
        "X_train = scaler.transform(X_train)\n",
        "X_test = scaler.transform(X_test)\n",
        "print(X_train.shape[0])\n",
        "print(X_test.shape[0])"
      ],
      "execution_count": null,
      "outputs": [
        {
          "output_type": "stream",
          "name": "stdout",
          "text": [
            "spliting datasets in train and test dataset...\n",
            "\n",
            "3415\n",
            "1464\n"
          ]
        }
      ]
    },
    {
      "cell_type": "code",
      "metadata": {
        "colab": {
          "base_uri": "https://localhost:8080/",
          "height": 1000
        },
        "id": "o6e4lWgXDn5t",
        "outputId": "51dbee2d-6b7d-40e8-fe50-8c51a483dd76"
      },
      "source": [
        "print (\"training datasets.......\\n\")\n",
        "y_pred = train(X_train,y_train,X_test)"
      ],
      "execution_count": null,
      "outputs": [
        {
          "output_type": "stream",
          "name": "stdout",
          "text": [
            "training datasets.......\n",
            "\n",
            "Epoch 1/100\n",
            "229/229 [==============================] - 1s 3ms/step - loss: 0.6985 - accuracy: 0.5503 - val_loss: 0.6141 - val_accuracy: 0.7480\n",
            "Epoch 2/100\n",
            "229/229 [==============================] - 0s 2ms/step - loss: 0.4994 - accuracy: 0.8204 - val_loss: 0.4407 - val_accuracy: 0.8270\n",
            "Epoch 3/100\n",
            "229/229 [==============================] - 0s 2ms/step - loss: 0.3551 - accuracy: 0.9191 - val_loss: 0.3246 - val_accuracy: 0.9379\n",
            "Epoch 4/100\n",
            "229/229 [==============================] - 0s 2ms/step - loss: 0.2553 - accuracy: 0.9471 - val_loss: 0.2492 - val_accuracy: 0.9379\n",
            "Epoch 5/100\n",
            "229/229 [==============================] - 0s 2ms/step - loss: 0.2012 - accuracy: 0.9480 - val_loss: 0.2151 - val_accuracy: 0.9388\n",
            "Epoch 6/100\n",
            "229/229 [==============================] - 0s 2ms/step - loss: 0.1778 - accuracy: 0.9484 - val_loss: 0.2009 - val_accuracy: 0.9388\n",
            "Epoch 7/100\n",
            "229/229 [==============================] - 0s 2ms/step - loss: 0.1672 - accuracy: 0.9497 - val_loss: 0.1938 - val_accuracy: 0.9406\n",
            "Epoch 8/100\n",
            "229/229 [==============================] - 0s 2ms/step - loss: 0.1614 - accuracy: 0.9497 - val_loss: 0.1894 - val_accuracy: 0.9406\n",
            "Epoch 9/100\n",
            "229/229 [==============================] - 0s 2ms/step - loss: 0.1576 - accuracy: 0.9524 - val_loss: 0.1870 - val_accuracy: 0.9406\n",
            "Epoch 10/100\n",
            "229/229 [==============================] - 0s 2ms/step - loss: 0.1546 - accuracy: 0.9528 - val_loss: 0.1845 - val_accuracy: 0.9423\n",
            "Epoch 11/100\n",
            "229/229 [==============================] - 0s 2ms/step - loss: 0.1517 - accuracy: 0.9541 - val_loss: 0.1816 - val_accuracy: 0.9441\n",
            "Epoch 12/100\n",
            "229/229 [==============================] - 0s 2ms/step - loss: 0.1492 - accuracy: 0.9545 - val_loss: 0.1789 - val_accuracy: 0.9459\n",
            "Epoch 13/100\n",
            "229/229 [==============================] - 0s 2ms/step - loss: 0.1469 - accuracy: 0.9559 - val_loss: 0.1764 - val_accuracy: 0.9459\n",
            "Epoch 14/100\n",
            "229/229 [==============================] - 0s 2ms/step - loss: 0.1447 - accuracy: 0.9576 - val_loss: 0.1745 - val_accuracy: 0.9459\n",
            "Epoch 15/100\n",
            "229/229 [==============================] - 0s 2ms/step - loss: 0.1425 - accuracy: 0.9580 - val_loss: 0.1721 - val_accuracy: 0.9459\n",
            "Epoch 16/100\n",
            "229/229 [==============================] - 0s 2ms/step - loss: 0.1404 - accuracy: 0.9580 - val_loss: 0.1699 - val_accuracy: 0.9459\n",
            "Epoch 17/100\n",
            "229/229 [==============================] - 0s 2ms/step - loss: 0.1384 - accuracy: 0.9594 - val_loss: 0.1665 - val_accuracy: 0.9476\n",
            "Epoch 18/100\n",
            "229/229 [==============================] - 0s 2ms/step - loss: 0.1360 - accuracy: 0.9594 - val_loss: 0.1645 - val_accuracy: 0.9476\n",
            "Epoch 19/100\n",
            "229/229 [==============================] - 0s 2ms/step - loss: 0.1338 - accuracy: 0.9594 - val_loss: 0.1615 - val_accuracy: 0.9476\n",
            "Epoch 20/100\n",
            "229/229 [==============================] - 0s 2ms/step - loss: 0.1318 - accuracy: 0.9607 - val_loss: 0.1593 - val_accuracy: 0.9476\n",
            "Epoch 21/100\n",
            "229/229 [==============================] - 0s 2ms/step - loss: 0.1299 - accuracy: 0.9607 - val_loss: 0.1585 - val_accuracy: 0.9494\n",
            "Epoch 22/100\n",
            "229/229 [==============================] - 0s 2ms/step - loss: 0.1284 - accuracy: 0.9607 - val_loss: 0.1570 - val_accuracy: 0.9503\n",
            "Epoch 23/100\n",
            "229/229 [==============================] - 0s 2ms/step - loss: 0.1272 - accuracy: 0.9611 - val_loss: 0.1560 - val_accuracy: 0.9539\n",
            "Epoch 24/100\n",
            "229/229 [==============================] - 0s 2ms/step - loss: 0.1260 - accuracy: 0.9615 - val_loss: 0.1549 - val_accuracy: 0.9539\n",
            "Epoch 25/100\n",
            "229/229 [==============================] - 0s 2ms/step - loss: 0.1250 - accuracy: 0.9611 - val_loss: 0.1540 - val_accuracy: 0.9547\n",
            "Epoch 26/100\n",
            "229/229 [==============================] - 0s 2ms/step - loss: 0.1239 - accuracy: 0.9615 - val_loss: 0.1526 - val_accuracy: 0.9574\n",
            "Epoch 27/100\n",
            "229/229 [==============================] - 0s 2ms/step - loss: 0.1230 - accuracy: 0.9620 - val_loss: 0.1519 - val_accuracy: 0.9574\n",
            "Epoch 28/100\n",
            "229/229 [==============================] - 0s 2ms/step - loss: 0.1220 - accuracy: 0.9620 - val_loss: 0.1504 - val_accuracy: 0.9565\n",
            "Epoch 29/100\n",
            "229/229 [==============================] - 0s 2ms/step - loss: 0.1209 - accuracy: 0.9624 - val_loss: 0.1493 - val_accuracy: 0.9565\n",
            "Epoch 30/100\n",
            "229/229 [==============================] - 0s 2ms/step - loss: 0.1200 - accuracy: 0.9633 - val_loss: 0.1490 - val_accuracy: 0.9565\n",
            "Epoch 31/100\n",
            "229/229 [==============================] - 0s 2ms/step - loss: 0.1192 - accuracy: 0.9633 - val_loss: 0.1477 - val_accuracy: 0.9592\n",
            "Epoch 32/100\n",
            "229/229 [==============================] - 0s 2ms/step - loss: 0.1182 - accuracy: 0.9637 - val_loss: 0.1467 - val_accuracy: 0.9601\n",
            "Epoch 33/100\n",
            "229/229 [==============================] - 0s 2ms/step - loss: 0.1175 - accuracy: 0.9637 - val_loss: 0.1458 - val_accuracy: 0.9610\n",
            "Epoch 34/100\n",
            "229/229 [==============================] - 0s 2ms/step - loss: 0.1168 - accuracy: 0.9650 - val_loss: 0.1452 - val_accuracy: 0.9601\n",
            "Epoch 35/100\n",
            "229/229 [==============================] - 0s 2ms/step - loss: 0.1160 - accuracy: 0.9655 - val_loss: 0.1443 - val_accuracy: 0.9618\n",
            "Epoch 36/100\n",
            "229/229 [==============================] - 0s 2ms/step - loss: 0.1151 - accuracy: 0.9646 - val_loss: 0.1431 - val_accuracy: 0.9627\n",
            "Epoch 37/100\n",
            "229/229 [==============================] - 0s 2ms/step - loss: 0.1149 - accuracy: 0.9668 - val_loss: 0.1427 - val_accuracy: 0.9627\n",
            "Epoch 38/100\n",
            "229/229 [==============================] - 0s 2ms/step - loss: 0.1139 - accuracy: 0.9663 - val_loss: 0.1425 - val_accuracy: 0.9627\n",
            "Epoch 39/100\n",
            "229/229 [==============================] - 0s 2ms/step - loss: 0.1134 - accuracy: 0.9668 - val_loss: 0.1415 - val_accuracy: 0.9627\n",
            "Epoch 40/100\n",
            "229/229 [==============================] - 0s 2ms/step - loss: 0.1127 - accuracy: 0.9672 - val_loss: 0.1411 - val_accuracy: 0.9627\n",
            "Epoch 41/100\n",
            "229/229 [==============================] - 0s 2ms/step - loss: 0.1122 - accuracy: 0.9677 - val_loss: 0.1406 - val_accuracy: 0.9627\n",
            "Epoch 42/100\n",
            "229/229 [==============================] - 0s 2ms/step - loss: 0.1115 - accuracy: 0.9681 - val_loss: 0.1396 - val_accuracy: 0.9627\n",
            "Epoch 43/100\n",
            "229/229 [==============================] - 0s 2ms/step - loss: 0.1100 - accuracy: 0.9685 - val_loss: 0.1396 - val_accuracy: 0.9618\n",
            "Epoch 44/100\n",
            "229/229 [==============================] - 0s 2ms/step - loss: 0.1096 - accuracy: 0.9681 - val_loss: 0.1376 - val_accuracy: 0.9636\n",
            "Epoch 45/100\n",
            "229/229 [==============================] - 0s 2ms/step - loss: 0.1088 - accuracy: 0.9681 - val_loss: 0.1362 - val_accuracy: 0.9645\n",
            "Epoch 46/100\n",
            "229/229 [==============================] - 0s 2ms/step - loss: 0.1079 - accuracy: 0.9681 - val_loss: 0.1349 - val_accuracy: 0.9645\n",
            "Epoch 47/100\n",
            "229/229 [==============================] - 0s 2ms/step - loss: 0.1072 - accuracy: 0.9690 - val_loss: 0.1335 - val_accuracy: 0.9672\n",
            "Epoch 48/100\n",
            "229/229 [==============================] - 0s 2ms/step - loss: 0.1070 - accuracy: 0.9690 - val_loss: 0.1337 - val_accuracy: 0.9663\n",
            "Epoch 49/100\n",
            "229/229 [==============================] - 0s 2ms/step - loss: 0.1061 - accuracy: 0.9685 - val_loss: 0.1330 - val_accuracy: 0.9663\n",
            "Epoch 50/100\n",
            "229/229 [==============================] - 0s 2ms/step - loss: 0.1055 - accuracy: 0.9690 - val_loss: 0.1333 - val_accuracy: 0.9645\n",
            "Epoch 51/100\n",
            "229/229 [==============================] - 0s 2ms/step - loss: 0.1051 - accuracy: 0.9690 - val_loss: 0.1325 - val_accuracy: 0.9663\n",
            "Epoch 52/100\n",
            "229/229 [==============================] - 0s 2ms/step - loss: 0.1045 - accuracy: 0.9694 - val_loss: 0.1315 - val_accuracy: 0.9672\n",
            "Epoch 53/100\n",
            "229/229 [==============================] - 0s 2ms/step - loss: 0.1040 - accuracy: 0.9698 - val_loss: 0.1319 - val_accuracy: 0.9663\n",
            "Epoch 54/100\n",
            "229/229 [==============================] - 0s 2ms/step - loss: 0.1037 - accuracy: 0.9698 - val_loss: 0.1310 - val_accuracy: 0.9672\n",
            "Epoch 55/100\n",
            "229/229 [==============================] - 0s 2ms/step - loss: 0.1031 - accuracy: 0.9703 - val_loss: 0.1302 - val_accuracy: 0.9672\n",
            "Epoch 56/100\n",
            "229/229 [==============================] - 0s 2ms/step - loss: 0.1026 - accuracy: 0.9703 - val_loss: 0.1309 - val_accuracy: 0.9672\n",
            "Epoch 57/100\n",
            "229/229 [==============================] - 0s 2ms/step - loss: 0.1018 - accuracy: 0.9707 - val_loss: 0.1316 - val_accuracy: 0.9663\n",
            "Epoch 58/100\n",
            "229/229 [==============================] - 0s 2ms/step - loss: 0.1020 - accuracy: 0.9698 - val_loss: 0.1301 - val_accuracy: 0.9672\n",
            "Epoch 59/100\n",
            "229/229 [==============================] - 0s 2ms/step - loss: 0.1013 - accuracy: 0.9703 - val_loss: 0.1290 - val_accuracy: 0.9672\n",
            "Epoch 60/100\n",
            "229/229 [==============================] - 0s 2ms/step - loss: 0.1010 - accuracy: 0.9707 - val_loss: 0.1289 - val_accuracy: 0.9672\n",
            "Epoch 61/100\n",
            "229/229 [==============================] - 0s 2ms/step - loss: 0.1005 - accuracy: 0.9703 - val_loss: 0.1284 - val_accuracy: 0.9672\n",
            "Epoch 62/100\n",
            "229/229 [==============================] - 0s 2ms/step - loss: 0.1002 - accuracy: 0.9712 - val_loss: 0.1282 - val_accuracy: 0.9672\n",
            "Epoch 63/100\n",
            "229/229 [==============================] - 0s 2ms/step - loss: 0.0994 - accuracy: 0.9712 - val_loss: 0.1273 - val_accuracy: 0.9689\n",
            "Epoch 64/100\n",
            "229/229 [==============================] - 0s 2ms/step - loss: 0.0990 - accuracy: 0.9725 - val_loss: 0.1283 - val_accuracy: 0.9672\n",
            "Epoch 65/100\n",
            "229/229 [==============================] - 0s 2ms/step - loss: 0.0989 - accuracy: 0.9716 - val_loss: 0.1266 - val_accuracy: 0.9698\n",
            "Epoch 66/100\n",
            "229/229 [==============================] - 0s 2ms/step - loss: 0.0986 - accuracy: 0.9716 - val_loss: 0.1274 - val_accuracy: 0.9689\n",
            "Epoch 67/100\n",
            "229/229 [==============================] - 0s 2ms/step - loss: 0.0982 - accuracy: 0.9729 - val_loss: 0.1269 - val_accuracy: 0.9681\n",
            "Epoch 68/100\n",
            "229/229 [==============================] - 0s 2ms/step - loss: 0.0979 - accuracy: 0.9725 - val_loss: 0.1268 - val_accuracy: 0.9689\n",
            "Epoch 69/100\n",
            "229/229 [==============================] - 0s 2ms/step - loss: 0.0976 - accuracy: 0.9716 - val_loss: 0.1258 - val_accuracy: 0.9698\n",
            "Epoch 70/100\n",
            "229/229 [==============================] - 0s 2ms/step - loss: 0.0973 - accuracy: 0.9725 - val_loss: 0.1248 - val_accuracy: 0.9698\n",
            "Epoch 71/100\n",
            "229/229 [==============================] - 0s 2ms/step - loss: 0.0967 - accuracy: 0.9720 - val_loss: 0.1251 - val_accuracy: 0.9698\n",
            "Epoch 72/100\n",
            "229/229 [==============================] - 0s 2ms/step - loss: 0.0965 - accuracy: 0.9729 - val_loss: 0.1257 - val_accuracy: 0.9698\n",
            "Epoch 73/100\n",
            "229/229 [==============================] - 0s 2ms/step - loss: 0.0962 - accuracy: 0.9725 - val_loss: 0.1249 - val_accuracy: 0.9698\n",
            "Epoch 74/100\n",
            "229/229 [==============================] - 0s 2ms/step - loss: 0.0959 - accuracy: 0.9729 - val_loss: 0.1243 - val_accuracy: 0.9698\n",
            "Epoch 75/100\n",
            "229/229 [==============================] - 0s 2ms/step - loss: 0.0955 - accuracy: 0.9729 - val_loss: 0.1233 - val_accuracy: 0.9698\n",
            "Epoch 76/100\n",
            "229/229 [==============================] - 0s 2ms/step - loss: 0.0955 - accuracy: 0.9729 - val_loss: 0.1243 - val_accuracy: 0.9698\n",
            "Epoch 77/100\n",
            "229/229 [==============================] - 0s 2ms/step - loss: 0.0949 - accuracy: 0.9729 - val_loss: 0.1234 - val_accuracy: 0.9698\n",
            "Epoch 78/100\n",
            "229/229 [==============================] - 0s 2ms/step - loss: 0.0947 - accuracy: 0.9729 - val_loss: 0.1232 - val_accuracy: 0.9698\n",
            "Epoch 79/100\n",
            "229/229 [==============================] - 0s 2ms/step - loss: 0.0944 - accuracy: 0.9733 - val_loss: 0.1228 - val_accuracy: 0.9698\n",
            "Epoch 80/100\n",
            "229/229 [==============================] - 0s 2ms/step - loss: 0.0942 - accuracy: 0.9738 - val_loss: 0.1217 - val_accuracy: 0.9698\n",
            "Epoch 81/100\n",
            "229/229 [==============================] - 0s 2ms/step - loss: 0.0937 - accuracy: 0.9733 - val_loss: 0.1229 - val_accuracy: 0.9698\n",
            "Epoch 82/100\n",
            "229/229 [==============================] - 0s 2ms/step - loss: 0.0936 - accuracy: 0.9733 - val_loss: 0.1216 - val_accuracy: 0.9698\n",
            "Epoch 83/100\n",
            "229/229 [==============================] - 0s 2ms/step - loss: 0.0936 - accuracy: 0.9729 - val_loss: 0.1218 - val_accuracy: 0.9698\n",
            "Epoch 84/100\n",
            "229/229 [==============================] - 0s 2ms/step - loss: 0.0930 - accuracy: 0.9733 - val_loss: 0.1212 - val_accuracy: 0.9698\n",
            "Epoch 85/100\n",
            "229/229 [==============================] - 0s 2ms/step - loss: 0.0928 - accuracy: 0.9738 - val_loss: 0.1214 - val_accuracy: 0.9698\n",
            "Epoch 86/100\n",
            "229/229 [==============================] - 0s 2ms/step - loss: 0.0926 - accuracy: 0.9738 - val_loss: 0.1212 - val_accuracy: 0.9698\n",
            "Epoch 87/100\n",
            "229/229 [==============================] - 0s 2ms/step - loss: 0.0923 - accuracy: 0.9733 - val_loss: 0.1215 - val_accuracy: 0.9698\n",
            "Epoch 88/100\n",
            "229/229 [==============================] - 0s 2ms/step - loss: 0.0919 - accuracy: 0.9738 - val_loss: 0.1206 - val_accuracy: 0.9698\n",
            "Epoch 89/100\n",
            "229/229 [==============================] - 0s 2ms/step - loss: 0.0922 - accuracy: 0.9738 - val_loss: 0.1204 - val_accuracy: 0.9698\n",
            "Epoch 90/100\n",
            "229/229 [==============================] - 0s 2ms/step - loss: 0.0914 - accuracy: 0.9738 - val_loss: 0.1202 - val_accuracy: 0.9698\n",
            "Epoch 91/100\n",
            "229/229 [==============================] - 0s 2ms/step - loss: 0.0909 - accuracy: 0.9738 - val_loss: 0.1196 - val_accuracy: 0.9698\n",
            "Epoch 92/100\n",
            "229/229 [==============================] - 0s 2ms/step - loss: 0.0911 - accuracy: 0.9729 - val_loss: 0.1190 - val_accuracy: 0.9698\n",
            "Epoch 93/100\n",
            "229/229 [==============================] - 0s 2ms/step - loss: 0.0908 - accuracy: 0.9738 - val_loss: 0.1192 - val_accuracy: 0.9698\n",
            "Epoch 94/100\n",
            "229/229 [==============================] - 0s 2ms/step - loss: 0.0904 - accuracy: 0.9742 - val_loss: 0.1194 - val_accuracy: 0.9698\n",
            "Epoch 95/100\n",
            "229/229 [==============================] - 0s 2ms/step - loss: 0.0898 - accuracy: 0.9747 - val_loss: 0.1203 - val_accuracy: 0.9698\n",
            "Epoch 96/100\n",
            "229/229 [==============================] - 0s 2ms/step - loss: 0.0898 - accuracy: 0.9733 - val_loss: 0.1209 - val_accuracy: 0.9698\n",
            "Epoch 97/100\n",
            "229/229 [==============================] - 0s 2ms/step - loss: 0.0898 - accuracy: 0.9733 - val_loss: 0.1201 - val_accuracy: 0.9698\n",
            "Epoch 98/100\n",
            "229/229 [==============================] - 0s 2ms/step - loss: 0.0895 - accuracy: 0.9733 - val_loss: 0.1186 - val_accuracy: 0.9698\n",
            "Epoch 99/100\n",
            "229/229 [==============================] - 0s 2ms/step - loss: 0.0891 - accuracy: 0.9751 - val_loss: 0.1179 - val_accuracy: 0.9698\n",
            "Epoch 100/100\n",
            "229/229 [==============================] - 0s 2ms/step - loss: 0.0887 - accuracy: 0.9747 - val_loss: 0.1188 - val_accuracy: 0.9698\n"
          ]
        },
        {
          "output_type": "display_data",
          "data": {
            "image/png": "[encoded data removed]",
            "text/plain": [
              "<Figure size 432x288 with 1 Axes>"
            ]
          },
          "metadata": {
            "needs_background": "light"
          }
        },
        {
          "output_type": "display_data",
          "data": {
            "image/png": "[encoded data removed]",
            "text/plain": [
              "<Figure size 432x288 with 1 Axes>"
            ]
          },
          "metadata": {
            "needs_background": "light"
          }
        }
      ]
    },
    {
      "cell_type": "code",
      "metadata": {
        "colab": {
          "base_uri": "https://localhost:8080/",
          "height": 362
        },
        "id": "HxA_Z2lncQdG",
        "outputId": "e53bc298-f481-4501-cb95-bad1d02e87bc"
      },
      "source": [
        "y_test = np.array(y_test)\n",
        "cm=confusion_matrix(y_test, y_pred)\n",
        "print('Confusion matrix, without normalization')\n",
        "print(cm)\n",
        "plot_confusion_matrix(cm)"
      ],
      "execution_count": null,
      "outputs": [
        {
          "output_type": "stream",
          "name": "stdout",
          "text": [
            "Confusion matrix, without normalization\n",
            "[[707  30]\n",
            " [  6 721]]\n"
          ]
        },
        {
          "output_type": "display_data",
          "data": {
            "image/png": "[encoded data removed]",
            "text/plain": [
              "<Figure size 432x288 with 2 Axes>"
            ]
          },
          "metadata": {
            "needs_background": "light"
          }
        }
      ]
    },
    {
      "cell_type": "code",
      "metadata": {
        "colab": {
          "base_uri": "https://localhost:8080/"
        },
        "id": "IqAxsocBdyCL",
        "outputId": "02d513fe-7865-4343-bae8-26803ce4a543"
      },
      "source": [
        "print(y_test)"
      ],
      "execution_count": null,
      "outputs": [
        {
          "output_type": "stream",
          "name": "stdout",
          "text": [
            "[1 0 0 ... 1 0 0]\n"
          ]
        }
      ]
    },
    {
      "cell_type": "code",
      "metadata": {
        "colab": {
          "base_uri": "https://localhost:8080/"
        },
        "id": "RbgzpOITeGZK",
        "outputId": "d04b1c45-bb3b-4ee8-ef9f-17a9d0dbc91f"
      },
      "source": [
        "print(y_pred)"
      ],
      "execution_count": null,
      "outputs": [
        {
          "output_type": "stream",
          "name": "stdout",
          "text": [
            "[[1]\n",
            " [0]\n",
            " [0]\n",
            " ...\n",
            " [1]\n",
            " [0]\n",
            " [0]]\n"
          ]
        }
      ]
    },
    {
      "cell_type": "code",
      "metadata": {
        "colab": {
          "base_uri": "https://localhost:8080/"
        },
        "id": "xnqmszZfibMO",
        "outputId": "c61137df-3880-4f2f-c49b-f4baf380621e"
      },
      "source": [
        "print('Classification Accuracy on Test dataset: ' ,accuracy_score(y_test, y_pred))"
      ],
      "execution_count": null,
      "outputs": [
        {
          "output_type": "stream",
          "name": "stdout",
          "text": [
            "Classification Accuracy on Test dataset:  0.9754098360655737\n"
          ]
        }
      ]
    },
    {
      "cell_type": "code",
      "metadata": {
        "id": "6GGwqRoYijak",
        "colab": {
          "base_uri": "https://localhost:8080/"
        },
        "outputId": "9da2c315-fa30-4a76-9ff6-090a2058f341"
      },
      "source": [
        "print(classification_report(y_test, y_pred, target_names=['Fake','Genuine']))\n"
      ],
      "execution_count": null,
      "outputs": [
        {
          "output_type": "stream",
          "name": "stdout",
          "text": [
            "              precision    recall  f1-score   support\n",
            "\n",
            "        Fake       0.99      0.96      0.98       737\n",
            "     Genuine       0.96      0.99      0.98       727\n",
            "\n",
            "    accuracy                           0.98      1464\n",
            "   macro avg       0.98      0.98      0.98      1464\n",
            "weighted avg       0.98      0.98      0.98      1464\n",
            "\n"
          ]
        }
      ]
    },
    {
      "cell_type": "code",
      "metadata": {
        "colab": {
          "base_uri": "https://localhost:8080/",
          "height": 329
        },
        "id": "KMtgYwhVjBST",
        "outputId": "896a3bd5-6f63-4499-ac8a-d3fb583843bc"
      },
      "source": [
        "plot_roc_curve(y_test, y_pred)"
      ],
      "execution_count": null,
      "outputs": [
        {
          "output_type": "stream",
          "name": "stdout",
          "text": [
            "False Positive rate:  [0.         0.04206242 1.        ]\n",
            "True Positive rate:  [0.         0.99174691 1.        ]\n"
          ]
        },
        {
          "output_type": "display_data",
          "data": {
            "image/png": "[encoded data removed]",
            "text/plain": [
              "<Figure size 432x288 with 1 Axes>"
            ]
          },
          "metadata": {
            "needs_background": "light"
          }
        }
      ]
    },
    {
      "cell_type": "code",
      "metadata": {
        "colab": {
          "base_uri": "https://localhost:8080/"
        },
        "id": "08-hEHRuj1iK",
        "outputId": "1bdae154-1a37-4e6a-bc05-82f00f34e6a3"
      },
      "source": [
        "print(accuracy_score(y_test, y_pred))"
      ],
      "execution_count": null,
      "outputs": [
        {
          "output_type": "stream",
          "name": "stdout",
          "text": [
            "0.9747267759562842\n"
          ]
        }
      ]
    }
  ]
}